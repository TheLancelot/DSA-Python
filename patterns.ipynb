{
 "cells": [
  {
   "cell_type": "code",
   "execution_count": 23,
   "metadata": {},
   "outputs": [
    {
     "name": "stdout",
     "output_type": "stream",
     "text": [
      "******\n",
      "******\n",
      "******\n",
      "******\n",
      "******\n",
      "******\n"
     ]
    }
   ],
   "source": [
    "def pattern_1(n):\n",
    "    for i in range(n):\n",
    "        for j in range(n):\n",
    "            print(\"*\",end='')\n",
    "        print()\n",
    "\n",
    "pattern_1(6)"
   ]
  },
  {
   "cell_type": "code",
   "execution_count": 22,
   "metadata": {},
   "outputs": [
    {
     "name": "stdout",
     "output_type": "stream",
     "text": [
      "*\n",
      "**\n",
      "***\n",
      "****\n",
      "*****\n"
     ]
    }
   ],
   "source": [
    "def pattern_2(n):\n",
    "    for i in range(n):\n",
    "        for j in range(i+1):\n",
    "            print(\"*\",end='')\n",
    "        print()\n",
    "\n",
    "pattern_2(5)"
   ]
  },
  {
   "cell_type": "code",
   "execution_count": 21,
   "metadata": {},
   "outputs": [
    {
     "name": "stdout",
     "output_type": "stream",
     "text": [
      "1\n",
      "12\n",
      "123\n",
      "1234\n",
      "12345\n"
     ]
    }
   ],
   "source": [
    "def pattern_3(n):\n",
    "    for i in range(n):\n",
    "        for j in range(i+1):\n",
    "            print(j+1,end='')\n",
    "        print()\n",
    "\n",
    "pattern_3(5)"
   ]
  },
  {
   "cell_type": "code",
   "execution_count": 24,
   "metadata": {},
   "outputs": [
    {
     "name": "stdout",
     "output_type": "stream",
     "text": [
      "1\n",
      "22\n",
      "333\n",
      "4444\n",
      "55555\n"
     ]
    }
   ],
   "source": [
    "def pattern_4(n):\n",
    "    for i in range(n):\n",
    "        for j in range(i+1):\n",
    "            print(i+1,end='')\n",
    "        print()\n",
    "\n",
    "pattern_4(5)"
   ]
  },
  {
   "cell_type": "code",
   "execution_count": 30,
   "metadata": {},
   "outputs": [
    {
     "name": "stdout",
     "output_type": "stream",
     "text": [
      "*****\n",
      "****\n",
      "***\n",
      "**\n",
      "*\n"
     ]
    }
   ],
   "source": [
    "def pattern_5(n):\n",
    "    for i in range(n):\n",
    "        for j in range(n-i):\n",
    "            print(\"*\",end='')\n",
    "        print()\n",
    "\n",
    "pattern_5(5)"
   ]
  },
  {
   "cell_type": "code",
   "execution_count": 32,
   "metadata": {},
   "outputs": [
    {
     "name": "stdout",
     "output_type": "stream",
     "text": [
      "12345\n",
      "1234\n",
      "123\n",
      "12\n",
      "1\n"
     ]
    }
   ],
   "source": [
    "def pattern_6(n):\n",
    "    for i in range(n):\n",
    "        for j in range(n-i):\n",
    "            print(j+1,end='')\n",
    "        print()\n",
    "\n",
    "pattern_6(5)"
   ]
  },
  {
   "cell_type": "code",
   "execution_count": 52,
   "metadata": {},
   "outputs": [
    {
     "name": "stdout",
     "output_type": "stream",
     "text": [
      "     *\n",
      "    ***\n",
      "   *****\n",
      "  *******\n",
      " *********\n"
     ]
    }
   ],
   "source": [
    "def pattern_7(n):\n",
    "    for i in range(n):\n",
    "\n",
    "        for j in range(n-i):\n",
    "            print(\" \",end='')\n",
    "            \n",
    "        for k in range(2*(i+1)-1):\n",
    "            print(\"*\",end=\"\")\n",
    "        print()\n",
    "\n",
    "pattern_7(5)"
   ]
  },
  {
   "cell_type": "code",
   "execution_count": 62,
   "metadata": {},
   "outputs": [
    {
     "name": "stdout",
     "output_type": "stream",
     "text": [
      "*********\n",
      " *******\n",
      "  *****\n",
      "   ***\n",
      "    *\n"
     ]
    }
   ],
   "source": [
    "def pattern_8(n):\n",
    "\n",
    "    star=(2*n-1)\n",
    "    gap=0\n",
    "    for i in range (n):\n",
    "\n",
    "        for j in range(gap):\n",
    "            print(\" \",end=\"\")\n",
    "\n",
    "        for i in range(star):\n",
    "            print(\"*\",end=\"\")\n",
    "        \n",
    "        gap+=1\n",
    "        star=star-2\n",
    "        print()\n",
    "\n",
    "pattern_8(5)"
   ]
  },
  {
   "cell_type": "code",
   "execution_count": 70,
   "metadata": {},
   "outputs": [
    {
     "name": "stdout",
     "output_type": "stream",
     "text": [
      "    *\n",
      "   ***\n",
      "  *****\n",
      " *******\n",
      "*********\n",
      "*********\n",
      " *******\n",
      "  *****\n",
      "   ***\n",
      "    *\n"
     ]
    }
   ],
   "source": [
    "def pattern_9(n):\n",
    "\n",
    "    blank=n-1\n",
    "    star=1\n",
    "    for i in range(n):\n",
    "        for j in range(blank):\n",
    "            print(\" \",end=\"\")\n",
    "        for k in range(star):\n",
    "            print(\"*\",end=\"\")\n",
    "        print()\n",
    "        star+=2\n",
    "        blank-=1    \n",
    "    \n",
    "    star=(2*n-1)\n",
    "    blank=0\n",
    "    for i in range(n):\n",
    "        \n",
    "        for j in range(blank):\n",
    "            print(\" \",end=\"\")\n",
    "        for k in range(star):\n",
    "            print(\"*\",end=\"\")\n",
    "        print()\n",
    "        blank+=1\n",
    "        star-=2\n",
    "\n",
    "pattern_9(5)\n"
   ]
  },
  {
   "cell_type": "code",
   "execution_count": 73,
   "metadata": {},
   "outputs": [
    {
     "name": "stdout",
     "output_type": "stream",
     "text": [
      "*\n",
      "**\n",
      "***\n",
      "****\n",
      "*****\n",
      "****\n",
      "***\n",
      "**\n",
      "*\n"
     ]
    }
   ],
   "source": [
    "def pattern_10(n):\n",
    "\n",
    "    for i in range(n):\n",
    "        for j in range(i+1):\n",
    "            print(\"*\",end=\"\")\n",
    "        print()\n",
    "\n",
    "    for i in reversed(range(n-1)):\n",
    "        for j in range(i+1):\n",
    "                print(\"*\",end=\"\")\n",
    "        print()\n",
    "\n",
    "pattern_10(5)"
   ]
  },
  {
   "cell_type": "code",
   "execution_count": null,
   "metadata": {},
   "outputs": [],
   "source": []
  }
 ],
 "metadata": {
  "kernelspec": {
   "display_name": "env",
   "language": "python",
   "name": "python3"
  },
  "language_info": {
   "codemirror_mode": {
    "name": "ipython",
    "version": 3
   },
   "file_extension": ".py",
   "mimetype": "text/x-python",
   "name": "python",
   "nbconvert_exporter": "python",
   "pygments_lexer": "ipython3",
   "version": "3.11.9"
  }
 },
 "nbformat": 4,
 "nbformat_minor": 2
}
