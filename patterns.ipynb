{
 "cells": [
  {
   "cell_type": "code",
   "execution_count": 23,
   "metadata": {},
   "outputs": [
    {
     "name": "stdout",
     "output_type": "stream",
     "text": [
      "******\n",
      "******\n",
      "******\n",
      "******\n",
      "******\n",
      "******\n"
     ]
    }
   ],
   "source": [
    "def pattern_1(n):\n",
    "    for i in range(n):\n",
    "        for j in range(n):\n",
    "            print(\"*\",end='')\n",
    "        print()\n",
    "\n",
    "pattern_1(6)"
   ]
  },
  {
   "cell_type": "code",
   "execution_count": 22,
   "metadata": {},
   "outputs": [
    {
     "name": "stdout",
     "output_type": "stream",
     "text": [
      "*\n",
      "**\n",
      "***\n",
      "****\n",
      "*****\n"
     ]
    }
   ],
   "source": [
    "def pattern_2(n):\n",
    "    for i in range(n):\n",
    "        for j in range(i+1):\n",
    "            print(\"*\",end='')\n",
    "        print()\n",
    "\n",
    "pattern_2(5)"
   ]
  },
  {
   "cell_type": "code",
   "execution_count": 21,
   "metadata": {},
   "outputs": [
    {
     "name": "stdout",
     "output_type": "stream",
     "text": [
      "1\n",
      "12\n",
      "123\n",
      "1234\n",
      "12345\n"
     ]
    }
   ],
   "source": [
    "def pattern_3(n):\n",
    "    for i in range(n):\n",
    "        for j in range(i+1):\n",
    "            print(j+1,end='')\n",
    "        print()\n",
    "\n",
    "pattern_3(5)"
   ]
  },
  {
   "cell_type": "code",
   "execution_count": 24,
   "metadata": {},
   "outputs": [
    {
     "name": "stdout",
     "output_type": "stream",
     "text": [
      "1\n",
      "22\n",
      "333\n",
      "4444\n",
      "55555\n"
     ]
    }
   ],
   "source": [
    "def pattern_4(n):\n",
    "    for i in range(n):\n",
    "        for j in range(i+1):\n",
    "            print(i+1,end='')\n",
    "        print()\n",
    "\n",
    "pattern_4(5)"
   ]
  },
  {
   "cell_type": "code",
   "execution_count": 30,
   "metadata": {},
   "outputs": [
    {
     "name": "stdout",
     "output_type": "stream",
     "text": [
      "*****\n",
      "****\n",
      "***\n",
      "**\n",
      "*\n"
     ]
    }
   ],
   "source": [
    "def pattern_5(n):\n",
    "    for i in range(n):\n",
    "        for j in range(n-i):\n",
    "            print(\"*\",end='')\n",
    "        print()\n",
    "\n",
    "pattern_5(5)"
   ]
  },
  {
   "cell_type": "code",
   "execution_count": 32,
   "metadata": {},
   "outputs": [
    {
     "name": "stdout",
     "output_type": "stream",
     "text": [
      "12345\n",
      "1234\n",
      "123\n",
      "12\n",
      "1\n"
     ]
    }
   ],
   "source": [
    "def pattern_6(n):\n",
    "    for i in range(n):\n",
    "        for j in range(n-i):\n",
    "            print(j+1,end='')\n",
    "        print()\n",
    "\n",
    "pattern_6(5)"
   ]
  },
  {
   "cell_type": "code",
   "execution_count": 52,
   "metadata": {},
   "outputs": [
    {
     "name": "stdout",
     "output_type": "stream",
     "text": [
      "     *\n",
      "    ***\n",
      "   *****\n",
      "  *******\n",
      " *********\n"
     ]
    }
   ],
   "source": [
    "def pattern_7(n):\n",
    "    for i in range(n):\n",
    "\n",
    "        for j in range(n-i):\n",
    "            print(\" \",end='')\n",
    "            \n",
    "        for k in range(2*(i+1)-1):\n",
    "            print(\"*\",end=\"\")\n",
    "        print()\n",
    "\n",
    "pattern_7(5)"
   ]
  },
  {
   "cell_type": "code",
   "execution_count": 62,
   "metadata": {},
   "outputs": [
    {
     "name": "stdout",
     "output_type": "stream",
     "text": [
      "*********\n",
      " *******\n",
      "  *****\n",
      "   ***\n",
      "    *\n"
     ]
    }
   ],
   "source": [
    "def pattern_8(n):\n",
    "\n",
    "    star=(2*n-1)\n",
    "    gap=0\n",
    "    for i in range (n):\n",
    "\n",
    "        for j in range(gap):\n",
    "            print(\" \",end=\"\")\n",
    "\n",
    "        for i in range(star):\n",
    "            print(\"*\",end=\"\")\n",
    "        \n",
    "        gap+=1\n",
    "        star=star-2\n",
    "        print()\n",
    "\n",
    "pattern_8(5)"
   ]
  },
  {
   "cell_type": "code",
   "execution_count": 70,
   "metadata": {},
   "outputs": [
    {
     "name": "stdout",
     "output_type": "stream",
     "text": [
      "    *\n",
      "   ***\n",
      "  *****\n",
      " *******\n",
      "*********\n",
      "*********\n",
      " *******\n",
      "  *****\n",
      "   ***\n",
      "    *\n"
     ]
    }
   ],
   "source": [
    "def pattern_9(n):\n",
    "\n",
    "    blank=n-1\n",
    "    star=1\n",
    "    for i in range(n):\n",
    "        for j in range(blank):\n",
    "            print(\" \",end=\"\")\n",
    "        for k in range(star):\n",
    "            print(\"*\",end=\"\")\n",
    "        print()\n",
    "        star+=2\n",
    "        blank-=1    \n",
    "    \n",
    "    star=(2*n-1)\n",
    "    blank=0\n",
    "    for i in range(n):\n",
    "        \n",
    "        for j in range(blank):\n",
    "            print(\" \",end=\"\")\n",
    "        for k in range(star):\n",
    "            print(\"*\",end=\"\")\n",
    "        print()\n",
    "        blank+=1\n",
    "        star-=2\n",
    "\n",
    "pattern_9(5)\n"
   ]
  },
  {
   "cell_type": "code",
   "execution_count": 73,
   "metadata": {},
   "outputs": [
    {
     "name": "stdout",
     "output_type": "stream",
     "text": [
      "*\n",
      "**\n",
      "***\n",
      "****\n",
      "*****\n",
      "****\n",
      "***\n",
      "**\n",
      "*\n"
     ]
    }
   ],
   "source": [
    "def pattern_10(n):\n",
    "\n",
    "    for i in range(n):\n",
    "        for j in range(i+1):\n",
    "            print(\"*\",end=\"\")\n",
    "        print()\n",
    "\n",
    "    for i in reversed(range(n-1)):\n",
    "        for j in range(i+1):\n",
    "                print(\"*\",end=\"\")\n",
    "        print()\n",
    "\n",
    "pattern_10(5)"
   ]
  },
  {
   "cell_type": "code",
   "execution_count": 105,
   "metadata": {},
   "outputs": [
    {
     "name": "stdout",
     "output_type": "stream",
     "text": [
      "1\n",
      "01\n",
      "101\n",
      "0101\n",
      "10101\n"
     ]
    }
   ],
   "source": [
    "def flip(n):\n",
    "    if n==1:\n",
    "        return 0\n",
    "    else:\n",
    "        return 1\n",
    "\n",
    "##can use bitwise and operator as well if not flipping\n",
    "def pattern_11(n):\n",
    "    for i in range(n):\n",
    "        start=(i+1)%2\n",
    "        \n",
    "        for j in range(i+1):\n",
    "            print(start,end='')\n",
    "            start=flip(start)\n",
    "        print()\n",
    "\n",
    "pattern_11(5)"
   ]
  },
  {
   "cell_type": "code",
   "execution_count": 119,
   "metadata": {},
   "outputs": [
    {
     "name": "stdout",
     "output_type": "stream",
     "text": [
      "1                 1 \n",
      "1 2             2 1 \n",
      "1 2 3         3 2 1 \n",
      "1 2 3 4     4 3 2 1 \n",
      "1 2 3 4 5 5 4 3 2 1 \n"
     ]
    }
   ],
   "source": [
    "def pattern_12(n):\n",
    "    gap=(n*2)-2\n",
    "    ln=1\n",
    "\n",
    "    for i in range(n):\n",
    "        \n",
    "        for j in range(ln): \n",
    "            print(j+1,end=\" \")\n",
    "\n",
    "        for k in range(gap):\n",
    "            print(\" \",end=\" \")\n",
    "\n",
    "        for l in reversed(range(ln)):\n",
    "            print(l+1,end=\" \")\n",
    "\n",
    "        gap=gap-2\n",
    "        ln=ln+1\n",
    "        print()\n",
    "\n",
    "pattern_12(5)\n",
    "\n"
   ]
  },
  {
   "cell_type": "code",
   "execution_count": 116,
   "metadata": {},
   "outputs": [
    {
     "name": "stdout",
     "output_type": "stream",
     "text": [
      "1 \n",
      "2 3 \n",
      "4 5 6 \n",
      "7 8 9 10 \n",
      "11 12 13 14 15 \n"
     ]
    }
   ],
   "source": [
    "def pattern_13(n):\n",
    "    start=1\n",
    "    for i in range(n):\n",
    "        for j in range(i+1):\n",
    "            print(start,end=\" \")\n",
    "            start+=1\n",
    "        print()\n",
    "\n",
    "pattern_13(5)"
   ]
  },
  {
   "cell_type": "code",
   "execution_count": 127,
   "metadata": {},
   "outputs": [
    {
     "name": "stdout",
     "output_type": "stream",
     "text": [
      "65\n",
      "A\n"
     ]
    }
   ],
   "source": [
    "print(ord(\"A\"))\n",
    "print(chr(65))\n"
   ]
  },
  {
   "cell_type": "code",
   "execution_count": 132,
   "metadata": {},
   "outputs": [
    {
     "name": "stdout",
     "output_type": "stream",
     "text": [
      "A \n",
      "A B \n",
      "A B C \n",
      "A B C D \n",
      "A B C D E \n"
     ]
    }
   ],
   "source": [
    "def pattern_14(n):\n",
    "    for i in range(n):\n",
    "        asc=65\n",
    "        for j in range(i+1):\n",
    "            print(chr(asc),end=\" \")\n",
    "            asc+=1\n",
    "        print()\n",
    "\n",
    "pattern_14(5)\n"
   ]
  },
  {
   "cell_type": "code",
   "execution_count": 134,
   "metadata": {},
   "outputs": [
    {
     "name": "stdout",
     "output_type": "stream",
     "text": [
      "A B C D E \n",
      "A B C D \n",
      "A B C \n",
      "A B \n",
      "A \n"
     ]
    }
   ],
   "source": [
    "def pattern_15(n):\n",
    "    for i in range(n):\n",
    "        asc=65\n",
    "        for j in range(n-i):\n",
    "            print(chr(asc),end=\" \")\n",
    "            asc+=1\n",
    "        print()\n",
    "\n",
    "pattern_15(5)\n"
   ]
  },
  {
   "cell_type": "code",
   "execution_count": 171,
   "metadata": {},
   "outputs": [
    {
     "name": "stdout",
     "output_type": "stream",
     "text": [
      "A \n",
      "B B \n",
      "C C C \n",
      "D D D D \n",
      "E E E E E \n"
     ]
    }
   ],
   "source": [
    "def pattern_16(n):\n",
    "    asc=65\n",
    "    for i in range(n):\n",
    "        for j in range(i+1):\n",
    "            print(chr(asc),end=\" \")      \n",
    "        print()\n",
    "        asc+=1\n",
    "\n",
    "pattern_16(5)\n"
   ]
  },
  {
   "cell_type": "code",
   "execution_count": 158,
   "metadata": {},
   "outputs": [
    {
     "name": "stdout",
     "output_type": "stream",
     "text": [
      "      A \n",
      "    A B A \n",
      "  A B C B A \n",
      "A B C D C B A \n"
     ]
    }
   ],
   "source": [
    "def pattern_17(n):\n",
    "    gap=n-1\n",
    "    alf=1\n",
    "    \n",
    "    for i in range(n):\n",
    "        # print gaps\n",
    "        for j in range(gap):\n",
    "            print(\" \",end=' ')\n",
    "\n",
    "        #print left alphabets then right \n",
    "        letter=65\n",
    "        for k in range(alf):\n",
    "            print(chr(letter),end=\" \")\n",
    "            letter+=1\n",
    "        \n",
    "        if i>0:\n",
    "            for l in range(i):\n",
    "                print(chr(letter-2),end=\" \")\n",
    "                letter-=1\n",
    "        \n",
    "        print()\n",
    "        gap-=1\n",
    "        \n",
    "        alf+=1\n",
    "\n",
    "pattern_17(4)\n",
    "\n"
   ]
  },
  {
   "cell_type": "code",
   "execution_count": 176,
   "metadata": {},
   "outputs": [
    {
     "name": "stdout",
     "output_type": "stream",
     "text": [
      "E\n",
      "DE\n",
      "CDE\n",
      "BCDE\n",
      "ABCDE\n"
     ]
    }
   ],
   "source": [
    "def pattern_18(n):\n",
    "    \n",
    "    for i in range(n):\n",
    "        alf=64+n-i\n",
    "        for j in range(i+1):\n",
    "            print(chr(alf),end='')\n",
    "            alf=alf+1\n",
    "\n",
    "        print()\n",
    "        \n",
    "pattern_18(5)\n",
    "\n"
   ]
  },
  {
   "cell_type": "code",
   "execution_count": 191,
   "metadata": {},
   "outputs": [
    {
     "name": "stdout",
     "output_type": "stream",
     "text": [
      "**********\n",
      "****  ****\n",
      "***    ***\n",
      "**      **\n",
      "*        *\n",
      "*        *\n",
      "**      **\n",
      "***    ***\n",
      "****  ****\n",
      "**********\n"
     ]
    }
   ],
   "source": [
    "def pattern_19(n):\n",
    "\n",
    "    gap=0\n",
    "    stars=n\n",
    "    for i in range(n):\n",
    "        for j in range(stars):\n",
    "            print(\"*\",end=\"\")\n",
    "        \n",
    "        for k in range(gap):\n",
    "            print(\" \",end=\"\")\n",
    "        \n",
    "        for j in range(stars):\n",
    "            print(\"*\",end=\"\")\n",
    "        \n",
    "        print()\n",
    "        gap+=2\n",
    "        stars=stars-1\n",
    "    \n",
    "    stars=1\n",
    "    gap-=2\n",
    "    for i in range(n):\n",
    "        \n",
    "        for j in range(stars): \n",
    "            print(\"*\",end=\"\")\n",
    "\n",
    "        for k in range(gap):\n",
    "            print(\" \",end=\"\")\n",
    "\n",
    "        for l in (range(stars)):\n",
    "            print(\"*\",end=\"\")\n",
    "\n",
    "        gap=gap-2\n",
    "        stars=stars+1\n",
    "        print()\n",
    "\n",
    "pattern_19(5)\n",
    "\n",
    "    "
   ]
  },
  {
   "cell_type": "code",
   "execution_count": 197,
   "metadata": {},
   "outputs": [
    {
     "name": "stdout",
     "output_type": "stream",
     "text": [
      "*                 * \n",
      "* *             * * \n",
      "* * *         * * * \n",
      "* * * *     * * * * \n",
      "* * * * * * * * * * \n",
      "* * * *     * * * * \n",
      "* * *         * * * \n",
      "* *             * * \n",
      "*                 * \n",
      "                    \n"
     ]
    }
   ],
   "source": [
    "def pattern_20(n):\n",
    "\n",
    "    gap=(n-1)*2\n",
    "    stars=1\n",
    "    for i in range(n):\n",
    "        for j in range(stars):\n",
    "            print(\"*\",end=\" \")\n",
    "        \n",
    "        for k in range(gap):\n",
    "            print(\" \",end=\" \")\n",
    "        \n",
    "        for j in range(stars):\n",
    "            print(\"*\",end=\" \")\n",
    "        \n",
    "        print()\n",
    "        gap=gap-2\n",
    "        stars=stars+1\n",
    "    \n",
    "    stars=n-1\n",
    "    gap=2\n",
    "    for _ in range(n):\n",
    "        \n",
    "        for _ in range(stars): \n",
    "            print(\"*\",end=\" \")\n",
    "\n",
    "        for _ in range(gap):\n",
    "            print(\" \",end=\" \")\n",
    "\n",
    "        for _ in (range(stars)):\n",
    "            print(\"*\",end=\" \")\n",
    "\n",
    "        gap=gap+2\n",
    "        stars=stars-1\n",
    "        print()\n",
    "\n",
    "pattern_20(5)\n",
    "\n",
    "    "
   ]
  },
  {
   "cell_type": "code",
   "execution_count": 214,
   "metadata": {},
   "outputs": [
    {
     "name": "stdout",
     "output_type": "stream",
     "text": [
      "*****\n",
      "*   *\n",
      "*   *\n",
      "*   *\n",
      "*****\n"
     ]
    }
   ],
   "source": [
    "def pattern_21(n):\n",
    "    for i in range(n):\n",
    "        if i==0 or i==n-1:\n",
    "            for j in range(n):\n",
    "                print(\"*\",end=\"\")\n",
    "        \n",
    "        else:\n",
    "            for j in range(n):\n",
    "                if j==0 or j==n-1:\n",
    "                    print(\"*\",end=\"\")\n",
    "                else:\n",
    "                    print(\" \",end=\"\")\n",
    "    \n",
    "        print()   \n",
    "\n",
    "pattern_21(5)\n",
    "        "
   ]
  },
  {
   "cell_type": "code",
   "execution_count": 234,
   "metadata": {},
   "outputs": [
    {
     "name": "stdout",
     "output_type": "stream",
     "text": [
      "4 4 4 4 4 4 4 \n",
      "4 3 3 3 3 3 4 \n",
      "4 3 2 2 2 3 4 \n",
      "4 3 2 1 2 3 4 \n",
      "4 3 2 2 2 3 4 \n",
      "4 3 3 3 3 3 4 \n",
      "4 4 4 4 4 4 4 \n"
     ]
    }
   ],
   "source": [
    "def pattern_22(n):\n",
    "\n",
    "    mid=n-1\n",
    "    for i in range((2*n)-1):\n",
    "        for j in range((2*n)-1):\n",
    "            \n",
    "            #calculate minimum distance from the center\n",
    "            dist=abs(mid-i) if abs(mid-i)>abs(mid-j) else abs(mid-j)\n",
    "            print(dist+1,end=\" \")\n",
    "        \n",
    "        print()\n",
    "    \n",
    "pattern_22(4)"
   ]
  },
  {
   "cell_type": "code",
   "execution_count": null,
   "metadata": {},
   "outputs": [],
   "source": []
  }
 ],
 "metadata": {
  "kernelspec": {
   "display_name": "env",
   "language": "python",
   "name": "python3"
  },
  "language_info": {
   "codemirror_mode": {
    "name": "ipython",
    "version": 3
   },
   "file_extension": ".py",
   "mimetype": "text/x-python",
   "name": "python",
   "nbconvert_exporter": "python",
   "pygments_lexer": "ipython3",
   "version": "3.11.9"
  }
 },
 "nbformat": 4,
 "nbformat_minor": 2
}
