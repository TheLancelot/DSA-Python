{
 "cells": [
  {
   "cell_type": "code",
   "execution_count": 20,
   "metadata": {},
   "outputs": [
    {
     "name": "stdout",
     "output_type": "stream",
     "text": [
      "2 4\n",
      "245 1\n",
      "4 1\n",
      "5 1\n",
      "6 1\n",
      "346 1\n",
      "537 1\n",
      "35 1\n",
      "73 1\n"
     ]
    }
   ],
   "source": [
    "def array_hash(arr):\n",
    "    #one approach is just have array based on the largest size of element in array, iterate through array and increase count\n",
    "\n",
    "    # #else use dic (stl equivalent of unordered map)\n",
    "    count={}\n",
    "    for elem in arr:\n",
    "        if elem in count:\n",
    "            count[elem]+=1\n",
    "        \n",
    "        else:\n",
    "            count[elem]=1\n",
    "\n",
    "    #another option is counter\n",
    "    # from collections import Counter\n",
    "    # count=Counter(arr)\n",
    "\n",
    "    for p in count:\n",
    "        print(p, count[p])\n",
    "\n",
    "\n",
    "\n",
    "array_hash([2,245,2,2,4,5,6,346,537,35,73,2])"
   ]
  },
  {
   "cell_type": "code",
   "execution_count": 49,
   "metadata": {},
   "outputs": [],
   "source": [
    "from typing import List\n",
    "class Solution:\n",
    "    def maxFrequency(self, nums: List[int], k: int) -> int:\n",
    "\n",
    "        nums.sort()\n",
    "\n",
    "        # ans=1\n",
    "        # for i in reversed(range(len(nums))):\n",
    "        #     dummy=k\n",
    "        #     inner_ans=1\n",
    "\n",
    "        #     for j in reversed(range(0,i)):\n",
    "\n",
    "        #         diff=nums[i]-nums[j]\n",
    "\n",
    "\n",
    "        #         if diff<=dummy:\n",
    "        #             dummy=dummy-diff\n",
    "        #             inner_ans+=1\n",
    "                \n",
    "        #         else:\n",
    "        #             break # no need to do comparisions\n",
    "                \n",
    "        #     if inner_ans>ans:\n",
    "        #         ans=inner_ans\n",
    "        #     print()\n",
    "\n",
    "        # return ans\n",
    "\n",
    "        net_k=0\n",
    "        for i in range(len(nums)):\n",
    "            net_k+=nums[-1]-nums[i]\n",
    "\n",
    "        print(net_k)\n",
    "        window_edge=len(nums)-1\n",
    "        window_left=0\n",
    "\n",
    "        print(\"-----------\")\n",
    "        print(nums)\n",
    "        if net_k<=k:\n",
    "            return len(nums)\n",
    "        \n",
    "        else:\n",
    "            while net_k>k:\n",
    "                # net_k=net_k-(window_edge*(nums[window_edge]-nums[window_edge-1]))\n",
    "\n",
    "                if nums[window_edge]==nums[window_edge-1]:\n",
    "                    net_k=net_k-(nums[window_edge]-nums[window_left])\n",
    "                    window_left+=1\n",
    "                    window_edge-=1\n",
    "                    print(\"in\")\n",
    "                    print(nums[window_edge])\n",
    "                \n",
    "                else:\n",
    "                    net_k=net_k-(window_edge*(nums[window_edge]-nums[window_edge-1]))    \n",
    "                    window_edge-=1\n",
    "                    print(\"in here\")\n",
    "            \n",
    "                print(net_k)\n",
    "                print(\"-\")\n",
    "            return window_edge+1-window_left\n",
    "\n",
    "\n",
    "        # return ans\n",
    "        # count=Counter(nums)\n",
    "        # print(count)"
   ]
  },
  {
   "cell_type": "code",
   "execution_count": 50,
   "metadata": {},
   "outputs": [
    {
     "name": "stdout",
     "output_type": "stream",
     "text": [
      "4396\n",
      "-----------\n",
      "[9902, 9903, 9904, 9907, 9910, 9911, 9911, 9911, 9913, 9914, 9916, 9916, 9916, 9917, 9920, 9922, 9923, 9923, 9923, 9924, 9925, 9925, 9925, 9926, 9927, 9927, 9928, 9928, 9930, 9930, 9930, 9930, 9932, 9932, 9933, 9934, 9935, 9935, 9936, 9937, 9938, 9938, 9943, 9945, 9945, 9946, 9947, 9952, 9952, 9954, 9954, 9957, 9959, 9963, 9964, 9964, 9966, 9970, 9972, 9972, 9973, 9973, 9974, 9975, 9975, 9975, 9977, 9977, 9981, 9982, 9983, 9983, 9985, 9985, 9985, 9986, 9988, 9990, 9990, 9993, 9994, 9995, 9996, 9997, 10000]\n",
      "in here\n",
      "4144\n",
      "-\n",
      "in here\n",
      "4061\n",
      "-\n",
      "in here\n",
      "3979\n",
      "-\n",
      "in here\n",
      "3898\n",
      "-\n",
      "in here\n",
      "3818\n",
      "-\n",
      "in here\n",
      "3581\n",
      "-\n",
      "in\n",
      "9990\n",
      "3493\n",
      "-\n",
      "in here\n",
      "3339\n",
      "-\n",
      "in here\n",
      "3187\n",
      "-\n",
      "in here\n",
      "3112\n",
      "-\n",
      "in\n",
      "9985\n",
      "3030\n",
      "-\n"
     ]
    },
    {
     "data": {
      "text/plain": [
       "72"
      ]
     },
     "execution_count": 50,
     "metadata": {},
     "output_type": "execute_result"
    }
   ],
   "source": [
    "Solution().maxFrequency([9930,9923,9983,9997,9934,9952,9945,9914,9985,9982,9970,9932,9985,9902,9975,9990,9922,9990,9994,9937,9996,9964,9943,9963,9911,9925,9935,9945,9933,9916,9930,9938,10000,9916,9911,9959,9957,9907,9913,9916,9993,9930,9975,9924,9988,9923,9910,9925,9977,9981,9927,9930,9927,9925,9923,9904,9928,9928,9986,9903,9985,9954,9938,9911,9952,9974,9926,9920,9972,9983,9973,9917,9995,9973,9977,9947,9936,9975,9954,9932,9964,9972,9935,9946,9966],3056)"
   ]
  },
  {
   "cell_type": "code",
   "execution_count": 44,
   "metadata": {},
   "outputs": [
    {
     "name": "stdout",
     "output_type": "stream",
     "text": [
      "3818\n",
      "-----------\n",
      "[9902, 9903, 9904, 9907, 9910, 9911, 9911, 9911, 9913, 9914, 9916, 9916, 9916, 9917, 9920, 9922, 9923, 9923, 9923, 9924, 9925, 9925, 9925, 9926, 9927, 9927, 9928, 9928, 9930, 9930, 9930, 9930, 9932, 9932, 9933, 9934, 9935, 9935, 9936, 9937, 9938, 9938, 9943, 9945, 9945, 9946, 9947, 9952, 9952, 9954, 9954, 9957, 9959, 9963, 9964, 9964, 9966, 9970, 9972, 9972, 9973, 9973, 9974, 9975, 9975, 9975, 9977, 9977, 9981, 9982, 9983, 9983, 9985, 9985, 9985, 9986, 9988, 9990, 9990, 9993]\n",
      "in here\n",
      "3581\n",
      "-\n",
      "in\n",
      "9990\n",
      "3493\n",
      "-\n",
      "in here\n",
      "3339\n",
      "-\n",
      "in here\n",
      "3187\n",
      "-\n",
      "in here\n",
      "3112\n",
      "-\n",
      "in\n",
      "9985\n",
      "3030\n",
      "-\n"
     ]
    },
    {
     "data": {
      "text/plain": [
       "72"
      ]
     },
     "execution_count": 44,
     "metadata": {},
     "output_type": "execute_result"
    }
   ],
   "source": [
    "Solution().maxFrequency([9902, 9903, 9904, 9907, 9910, 9911, 9911, 9911, 9913, 9914, 9916, 9916, 9916, 9917, 9920, 9922, 9923, 9923, 9923, 9924, 9925, 9925, 9925, 9926, 9927, 9927, 9928, 9928, 9930, 9930, 9930, 9930, 9932, 9932, 9933, 9934, 9935, 9935, 9936, 9937, 9938, 9938, 9943, 9945, 9945, 9946, 9947, 9952, 9952, 9954, 9954, 9957, 9959, 9963, 9964, 9964, 9966, 9970, 9972, 9972, 9973, 9973, 9974, 9975, 9975, 9975, 9977, 9977, 9981, 9982, 9983, 9983, 9985, 9985, 9985, 9986, 9988, 9990, 9990, 9993],3056)"
   ]
  },
  {
   "cell_type": "code",
   "execution_count": null,
   "metadata": {},
   "outputs": [],
   "source": []
  }
 ],
 "metadata": {
  "kernelspec": {
   "display_name": "env",
   "language": "python",
   "name": "python3"
  },
  "language_info": {
   "codemirror_mode": {
    "name": "ipython",
    "version": 3
   },
   "file_extension": ".py",
   "mimetype": "text/x-python",
   "name": "python",
   "nbconvert_exporter": "python",
   "pygments_lexer": "ipython3",
   "version": "3.11.9"
  }
 },
 "nbformat": 4,
 "nbformat_minor": 2
}
