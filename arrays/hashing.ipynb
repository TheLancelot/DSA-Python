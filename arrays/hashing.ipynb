{
 "cells": [
  {
   "cell_type": "code",
   "execution_count": 20,
   "metadata": {},
   "outputs": [
    {
     "name": "stdout",
     "output_type": "stream",
     "text": [
      "2 4\n",
      "245 1\n",
      "4 1\n",
      "5 1\n",
      "6 1\n",
      "346 1\n",
      "537 1\n",
      "35 1\n",
      "73 1\n"
     ]
    }
   ],
   "source": [
    "def array_hash(arr):\n",
    "    #one approach is just have array based on the largest size of element in array, iterate through array and increase count\n",
    "\n",
    "    # #else use dic (stl equivalent of unordered map)\n",
    "    count={}\n",
    "    for elem in arr:\n",
    "        if elem in count:\n",
    "            count[elem]+=1\n",
    "        \n",
    "        else:\n",
    "            count[elem]=1\n",
    "\n",
    "    #another option is counter\n",
    "    # from collections import Counter\n",
    "    # count=Counter(arr)\n",
    "\n",
    "    for p in count:\n",
    "        print(p, count[p])\n",
    "\n",
    "\n",
    "\n",
    "array_hash([2,245,2,2,4,5,6,346,537,35,73,2])"
   ]
  },
  {
   "cell_type": "code",
   "execution_count": null,
   "metadata": {},
   "outputs": [],
   "source": []
  },
  {
   "cell_type": "code",
   "execution_count": null,
   "metadata": {},
   "outputs": [],
   "source": []
  }
 ],
 "metadata": {
  "kernelspec": {
   "display_name": "env",
   "language": "python",
   "name": "python3"
  },
  "language_info": {
   "codemirror_mode": {
    "name": "ipython",
    "version": 3
   },
   "file_extension": ".py",
   "mimetype": "text/x-python",
   "name": "python",
   "nbconvert_exporter": "python",
   "pygments_lexer": "ipython3",
   "version": "3.11.9"
  }
 },
 "nbformat": 4,
 "nbformat_minor": 2
}
