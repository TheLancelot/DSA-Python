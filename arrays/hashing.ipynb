{
 "cells": [
  {
   "cell_type": "code",
   "execution_count": 20,
   "metadata": {},
   "outputs": [
    {
     "name": "stdout",
     "output_type": "stream",
     "text": [
      "2 4\n",
      "245 1\n",
      "4 1\n",
      "5 1\n",
      "6 1\n",
      "346 1\n",
      "537 1\n",
      "35 1\n",
      "73 1\n"
     ]
    }
   ],
   "source": [
    "def array_hash(arr):\n",
    "    #one approach is just have array based on the largest size of element in array, iterate through array and increase count\n",
    "\n",
    "    # #else use dic (stl equivalent of unordered map)\n",
    "    count={}\n",
    "    for elem in arr:\n",
    "        if elem in count:\n",
    "            count[elem]+=1\n",
    "        \n",
    "        else:\n",
    "            count[elem]=1\n",
    "\n",
    "    #another option is counter\n",
    "    # from collections import Counter\n",
    "    # count=Counter(arr)\n",
    "\n",
    "    for p in count:\n",
    "        print(p, count[p])\n",
    "\n",
    "\n",
    "\n",
    "array_hash([2,245,2,2,4,5,6,346,537,35,73,2])"
   ]
  },
  {
   "cell_type": "code",
   "execution_count": 49,
   "metadata": {},
   "outputs": [],
   "source": [
    "from typing import List\n",
    "class Solution:\n",
    "    def maxFrequency(self, nums: List[int], k: int) -> int:\n",
    "\n",
    "        nums.sort()\n",
    "\n",
    "        # ans=1\n",
    "        # for i in reversed(range(len(nums))):\n",
    "        #     dummy=k\n",
    "        #     inner_ans=1\n",
    "\n",
    "        #     for j in reversed(range(0,i)):\n",
    "\n",
    "        #         diff=nums[i]-nums[j]\n",
    "\n",
    "\n",
    "        #         if diff<=dummy:\n",
    "        #             dummy=dummy-diff\n",
    "        #             inner_ans+=1\n",
    "                \n",
    "        #         else:\n",
    "        #             break # no need to do comparisions\n",
    "                \n",
    "        #     if inner_ans>ans:\n",
    "        #         ans=inner_ans\n",
    "        #     print()\n",
    "\n",
    "        # return ans\n",
    "\n",
    "        net_k=0\n",
    "        for i in range(len(nums)):\n",
    "            net_k+=nums[-1]-nums[i]\n",
    "\n",
    "        print(net_k)\n",
    "        window_edge=len(nums)-1\n",
    "        window_left=0\n",
    "\n",
    "        print(\"-----------\")\n",
    "        print(nums)\n",
    "        if net_k<=k:\n",
    "            return len(nums)\n",
    "        \n",
    "        else:\n",
    "            while net_k>k:\n",
    "                # net_k=net_k-(window_edge*(nums[window_edge]-nums[window_edge-1]))\n",
    "\n",
    "                if nums[window_edge]==nums[window_edge-1]:\n",
    "                    net_k=net_k-(nums[window_edge]-nums[window_left])\n",
    "                    window_left+=1\n",
    "                    window_edge-=1\n",
    "                    print(\"inn\")\n",
    "                    print(nums[window_edge])\n",
    "                \n",
    "                else:\n",
    "                    net_k=net_k-(window_edge*(nums[window_edge]-nums[window_edge-1]))    \n",
    "                    window_edge-=1\n",
    "                    print(\"in here\")\n",
    "            \n",
    "                print(net_k)\n",
    "                print(\"-\")\n",
    "            return window_edge+1-window_left\n",
    "\n",
    "\n",
    "        # return ans\n",
    "        # count=Counter(nums)\n",
    "        # print(count)"
   ]
  },
  {
   "cell_type": "code",
   "execution_count": 42,
   "metadata": {},
   "outputs": [],
   "source": [
    "nums=[1,2,3,4,5,6,7]\n",
    "k=3"
   ]
  },
  {
   "cell_type": "code",
   "execution_count": 45,
   "metadata": {},
   "outputs": [
    {
     "name": "stdout",
     "output_type": "stream",
     "text": [
      "[4, 5, 6, 7] [1, 2, 3]\n"
     ]
    },
    {
     "data": {
      "text/plain": [
       "([1, 2, 3, 4], [5, 6, 7])"
      ]
     },
     "execution_count": 45,
     "metadata": {},
     "output_type": "execute_result"
    }
   ],
   "source": [
    "print(nums[k:],nums[:k])\n",
    "\n",
    "nums[:-k],nums[-k:]"
   ]
  },
  {
   "cell_type": "code",
   "execution_count": null,
   "metadata": {},
   "outputs": [],
   "source": []
  }
 ],
 "metadata": {
  "kernelspec": {
   "display_name": "env",
   "language": "python",
   "name": "python3"
  },
  "language_info": {
   "codemirror_mode": {
    "name": "ipython",
    "version": 3
   },
   "file_extension": ".py",
   "mimetype": "text/x-python",
   "name": "python",
   "nbconvert_exporter": "python",
   "pygments_lexer": "ipython3",
   "version": "3.11.9"
  }
 },
 "nbformat": 4,
 "nbformat_minor": 2
}
