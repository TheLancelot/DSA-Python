{
 "cells": [
  {
   "cell_type": "code",
   "execution_count": 11,
   "metadata": {},
   "outputs": [
    {
     "name": "stdout",
     "output_type": "stream",
     "text": [
      "10032.5\n",
      "10032\n"
     ]
    }
   ],
   "source": [
    "print(100325/10)\n",
    "print(100325//10)"
   ]
  },
  {
   "cell_type": "markdown",
   "metadata": {},
   "source": [
    "#### Count digits\n",
    "\n",
    "number of digits in number is always log base 10 (n) +1, so a loop iterating through digits is log(n) time complexity\n",
    "in python can do a map to iterate over string of number"
   ]
  },
  {
   "cell_type": "code",
   "execution_count": 41,
   "metadata": {},
   "outputs": [
    {
     "name": "stdout",
     "output_type": "stream",
     "text": [
      "1\n",
      "1\n",
      "4\n",
      "4\n"
     ]
    }
   ],
   "source": [
    "def countDigit(n):\n",
    "    digits=0\n",
    "\n",
    "    while n>0:\n",
    "        digits+=1\n",
    "        n=n//10\n",
    "\n",
    "    print(digits)\n",
    "\n",
    "countDigit(8)\n",
    "\n",
    "import math\n",
    "print(int(math.log(1,10)+1))\n",
    "\n",
    "print(len(list(map(int,'1234'))))\n",
    "print(len(str(1244)))"
   ]
  },
  {
   "cell_type": "markdown",
   "metadata": {},
   "source": [
    "#### reverse number\n",
    "(log (n) complexity because digits) - little more complex in LC beuase negative values and limit to 32bits\n"
   ]
  },
  {
   "cell_type": "code",
   "execution_count": 25,
   "metadata": {},
   "outputs": [
    {
     "data": {
      "text/plain": [
       "523531"
      ]
     },
     "execution_count": 25,
     "metadata": {},
     "output_type": "execute_result"
    }
   ],
   "source": [
    "class Solution:\n",
    "    def reverse(self, x: int) -> int:\n",
    "        reversed=0\n",
    "        neg=False\n",
    "\n",
    "        if x<0:\n",
    "            neg=True\n",
    "            x=x*-1\n",
    "\n",
    "        while x:\n",
    "            reversed=(reversed*10)+(x%10)\n",
    "            x=x//10\n",
    "\n",
    "        if reversed>(pow(2,31)-1):\n",
    "            return 0\n",
    "\n",
    "        return reversed if not neg else (-1*reversed)\n",
    "\n",
    "Solution().reverse(135325)"
   ]
  },
  {
   "cell_type": "markdown",
   "metadata": {},
   "source": [
    "#### palindrome\n",
    "non string option to is reverse the number and compare\n"
   ]
  },
  {
   "cell_type": "code",
   "execution_count": 28,
   "metadata": {},
   "outputs": [],
   "source": [
    "class Solution:\n",
    "    def isPalindrome(self, x: int) -> bool:\n",
    "        return str(x)==str(x)[::-1]"
   ]
  },
  {
   "cell_type": "markdown",
   "metadata": {},
   "source": [
    "#### GCD\n",
    "\n",
    "can use normal for loop or Euclids gcd algorithm we keep subtracting the smaller number from the bigger number until one becomes zero, the other one will be gcd\n"
   ]
  },
  {
   "cell_type": "code",
   "execution_count": 31,
   "metadata": {},
   "outputs": [
    {
     "name": "stdout",
     "output_type": "stream",
     "text": [
      "2\n"
     ]
    }
   ],
   "source": [
    "def gcd(n1,n2):\n",
    "    low =n1 if n1<n2 else n2\n",
    "    for i in reversed(range((low//2)+1)):\n",
    "        if n1%i == 0 and n2%i==0:\n",
    "            break\n",
    "    return i\n",
    "\n",
    "print(gcd(4,6))\n",
    "\n"
   ]
  },
  {
   "cell_type": "code",
   "execution_count": 33,
   "metadata": {},
   "outputs": [
    {
     "data": {
      "text/plain": [
       "2"
      ]
     },
     "execution_count": 33,
     "metadata": {},
     "output_type": "execute_result"
    }
   ],
   "source": [
    "def euclid(n1,n2):\n",
    "    while n1>0 and n2>0:\n",
    "\n",
    "        if n1>n2:\n",
    "            n1=n1%n2 #repeatedly subtract means divide by that number and get remainder\n",
    "\n",
    "        else:\n",
    "            n2=n2%n1\n",
    "\n",
    "    return n1 if n2==0 else n2\n",
    "\n",
    "\n",
    "euclid(4,6)"
   ]
  },
  {
   "cell_type": "markdown",
   "metadata": {},
   "source": [
    "#### armstrong number (number is sum of cube of digits)\n",
    "can use map to iterate over the digits\n"
   ]
  },
  {
   "cell_type": "code",
   "execution_count": null,
   "metadata": {},
   "outputs": [],
   "source": [
    "def isArmstrong(self, n):\n",
    "    num=0\n",
    "    for digit in map(int,str(n)):\n",
    "        num=num+(pow(digit,3))\n",
    "    \n",
    "    return True if num==n else False"
   ]
  },
  {
   "cell_type": "markdown",
   "metadata": {},
   "source": [
    "#### divisors\n",
    "more optimal is iterate till root of n, add i and n/i if n is divisible by i. thats why iterate till n2 becaseu on both sides therell be one"
   ]
  },
  {
   "cell_type": "code",
   "execution_count": 45,
   "metadata": {},
   "outputs": [
    {
     "data": {
      "text/plain": [
       "[1, 2, 4, 17, 34, 68, 199, 398, 796, 3383, 6766, 13532]"
      ]
     },
     "execution_count": 45,
     "metadata": {},
     "output_type": "execute_result"
    }
   ],
   "source": [
    "class Solution:\n",
    "    def divisors(self, n):\n",
    "\n",
    "        answer=[]\n",
    "        for i in range(1,n+1):\n",
    "            if n%i==0:\n",
    "                answer.append(i)\n",
    "            \n",
    "        return answer\n",
    "\n",
    "Solution().divisors(13532)"
   ]
  },
  {
   "cell_type": "markdown",
   "metadata": {},
   "source": [
    "#### prime "
   ]
  },
  {
   "cell_type": "code",
   "execution_count": 46,
   "metadata": {},
   "outputs": [],
   "source": [
    "import math \n",
    "class Solution:\n",
    "    def isPrime(self, n):\n",
    "        #your code goes here\n",
    "        prime=True\n",
    "        for i in range(2,int(math.sqrt(n))+1):\n",
    "            if (n%i==0):\n",
    "                prime=False\n",
    "                break\n",
    "        return prime"
   ]
  },
  {
   "cell_type": "code",
   "execution_count": null,
   "metadata": {},
   "outputs": [],
   "source": []
  }
 ],
 "metadata": {
  "kernelspec": {
   "display_name": "env",
   "language": "python",
   "name": "python3"
  },
  "language_info": {
   "codemirror_mode": {
    "name": "ipython",
    "version": 3
   },
   "file_extension": ".py",
   "mimetype": "text/x-python",
   "name": "python",
   "nbconvert_exporter": "python",
   "pygments_lexer": "ipython3",
   "version": "3.11.9"
  }
 },
 "nbformat": 4,
 "nbformat_minor": 2
}
