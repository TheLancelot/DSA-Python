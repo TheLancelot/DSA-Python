{
 "cells": [
  {
   "cell_type": "markdown",
   "metadata": {},
   "source": [
    "#### unordered_set (C++) ↔️ set (Python) (cpp has ordered set but python doesnt)\n",
    " Stores unique elements in no particular order. Uses hashing for fast lookup. (set elements must be hashable, thus cant add a list to set. will have to convert ot tuple and then add)"
   ]
  },
  {
   "cell_type": "code",
   "execution_count": 1,
   "metadata": {},
   "outputs": [
    {
     "data": {
      "text/plain": [
       "{1, 2, 3, 4, 5}"
      ]
     },
     "execution_count": 1,
     "metadata": {},
     "output_type": "execute_result"
    }
   ],
   "source": [
    "test=set()\n",
    "test.add(1)\n",
    "test.update([2,3,4,5])\n",
    "test"
   ]
  },
  {
   "cell_type": "code",
   "execution_count": 8,
   "metadata": {},
   "outputs": [
    {
     "name": "stdout",
     "output_type": "stream",
     "text": [
      "False\n",
      "{1, 2, 99, 4, 7, 10}\n"
     ]
    }
   ],
   "source": [
    "s = {1, 2, 3, 2,99,10,7}\n",
    "s.add(4)\n",
    "s.discard(3)\n",
    "print(3 in s)\n",
    "print(s)\n"
   ]
  },
  {
   "cell_type": "code",
   "execution_count": 15,
   "metadata": {},
   "outputs": [
    {
     "data": {
      "text/plain": [
       "[1, 2, 4, 7, 10, 99]"
      ]
     },
     "execution_count": 15,
     "metadata": {},
     "output_type": "execute_result"
    }
   ],
   "source": [
    "sorted(s)"
   ]
  },
  {
   "cell_type": "markdown",
   "metadata": {},
   "source": [
    "#### vector (C++) ↔️ list (Python)\n",
    "Dynamic array with random access"
   ]
  },
  {
   "cell_type": "code",
   "execution_count": 13,
   "metadata": {},
   "outputs": [
    {
     "name": "stdout",
     "output_type": "stream",
     "text": [
      "[0, 1, 2, 3]\n"
     ]
    }
   ],
   "source": [
    "v = [1, 2, 3,0]\n",
    "v.append(4)\n",
    "v.pop()\n",
    "v.sort()\n",
    "v.insert(index,val)\n",
    "v.index(value)\n",
    "print(v)"
   ]
  },
  {
   "cell_type": "markdown",
   "metadata": {},
   "source": [
    "#### unordered_multiset (C++) ↔️ collections.Counter (Python) ↔️ multiset (C++)\n",
    "Allows duplicate elements; no order. (ordered if just multiset)"
   ]
  },
  {
   "cell_type": "code",
   "execution_count": 18,
   "metadata": {},
   "outputs": [],
   "source": [
    "from collections import Counter\n",
    "c = Counter([1, 1, 2, 3])\n"
   ]
  },
  {
   "cell_type": "code",
   "execution_count": 20,
   "metadata": {},
   "outputs": [
    {
     "data": {
      "text/plain": [
       "Counter({1: 2, 2: 1, 3: 1})"
      ]
     },
     "execution_count": 20,
     "metadata": {},
     "output_type": "execute_result"
    }
   ],
   "source": [
    "c"
   ]
  },
  {
   "cell_type": "markdown",
   "metadata": {},
   "source": [
    "#### unordered_map (C++) ↔️ dict (Python) ↔️ map (C++)  [Keys will be unique]\n",
    "unordered uses hashmap for fast access  (best usecase is unordered map of vectors etc)\n",
    "\n",
    "map is ordered (sorted by keys)\n",
    "\n",
    "dict In python it is ordered (insertion ordered not sorted) to sort just do sorted(mp)"
   ]
  },
  {
   "cell_type": "code",
   "execution_count": 21,
   "metadata": {},
   "outputs": [
    {
     "name": "stdout",
     "output_type": "stream",
     "text": [
      "{'one': 1, 'two': 2}\n"
     ]
    }
   ],
   "source": [
    "mp = {\"one\": 1}\n",
    "mp[\"two\"] = 2\n",
    "\n",
    "print(mp)"
   ]
  },
  {
   "cell_type": "code",
   "execution_count": 39,
   "metadata": {},
   "outputs": [
    {
     "name": "stdout",
     "output_type": "stream",
     "text": [
      "[(1, 'one'), (2, 'two')]\n"
     ]
    }
   ],
   "source": [
    "print(sorted(mp.items()))"
   ]
  },
  {
   "cell_type": "code",
   "execution_count": 37,
   "metadata": {},
   "outputs": [
    {
     "name": "stdout",
     "output_type": "stream",
     "text": [
      "{2: 'two', 1: 'one'}\n",
      "1: one \n",
      "2: two \n",
      "{1: 'one', 2: 'two'}\n"
     ]
    }
   ],
   "source": [
    "mp = {2: \"two\", 1: \"one\"}\n",
    "print(mp)\n",
    "\n",
    "# Sorted by keys (gives a list of sorted keys)\n",
    "for key in sorted(mp):\n",
    "    print(f\"{key}: {mp[key]} \", )\n",
    "\n",
    "mp_sorted = dict(sorted(mp.items()))\n",
    "print(mp_sorted)\n",
    "\n"
   ]
  },
  {
   "cell_type": "markdown",
   "metadata": {},
   "source": [
    "#### unordered_multimap (C++) ↔️ dict of lists (Python) ↔️ multimap (C++) [if wanto have multiple values for same keys in a map]"
   ]
  },
  {
   "cell_type": "code",
   "execution_count": 46,
   "metadata": {},
   "outputs": [
    {
     "name": "stdout",
     "output_type": "stream",
     "text": [
      "('apple', [1, 2])\n",
      "('banana', [2])\n"
     ]
    }
   ],
   "source": [
    "from collections import defaultdict\n",
    "\n",
    "ump = defaultdict(list)\n",
    "ump[\"apple\"].append(1)\n",
    "ump[\"apple\"].append(2)\n",
    "ump[\"banana\"].append(2)\n",
    "\n",
    "for elem in ump.items():\n",
    "    print(elem)"
   ]
  },
  {
   "cell_type": "markdown",
   "metadata": {},
   "source": [
    "####  list (C++), queue (C++), deque (C++)  ↔️ collections.deque (Python)"
   ]
  },
  {
   "cell_type": "code",
   "execution_count": 59,
   "metadata": {},
   "outputs": [
    {
     "name": "stdout",
     "output_type": "stream",
     "text": [
      "deque([21])\n"
     ]
    }
   ],
   "source": [
    "from collections import deque\n",
    "q = deque()\n",
    "q.append(1); \n",
    "q.appendleft(21); \n",
    "q.appendleft(99); \n",
    "q.count(1)\n",
    "q.popleft()\n",
    "q.pop()\n",
    "print(q)"
   ]
  },
  {
   "cell_type": "markdown",
   "metadata": {},
   "source": [
    "#### stack (C++) ↔️ list (Python)"
   ]
  },
  {
   "cell_type": "code",
   "execution_count": 56,
   "metadata": {},
   "outputs": [
    {
     "data": {
      "text/plain": [
       "1"
      ]
     },
     "execution_count": 56,
     "metadata": {},
     "output_type": "execute_result"
    }
   ],
   "source": [
    "s = []\n",
    "s.append(1); \n",
    "s.pop()\n"
   ]
  },
  {
   "cell_type": "markdown",
   "metadata": {},
   "source": [
    "#### priority_queue (C++) ↔️ heapq (Python) IDK"
   ]
  },
  {
   "cell_type": "code",
   "execution_count": 57,
   "metadata": {},
   "outputs": [
    {
     "name": "stdout",
     "output_type": "stream",
     "text": [
      "3\n"
     ]
    }
   ],
   "source": [
    "import heapq\n",
    "pq = []\n",
    "heapq.heappush(pq, -3)\n",
    "heapq.heappush(pq, -1)\n",
    "print(-heapq.heappop(pq))  # 3\n"
   ]
  },
  {
   "cell_type": "markdown",
   "metadata": {},
   "source": [
    "#### next_permutation() (C++) ↔️ itertools.permutations() (usually for knapsack type stuff- to get permutations or combinations of values)"
   ]
  },
  {
   "cell_type": "code",
   "execution_count": 60,
   "metadata": {},
   "outputs": [
    {
     "name": "stdout",
     "output_type": "stream",
     "text": [
      "(1, 2, 3)\n",
      "(1, 3, 2)\n",
      "(2, 1, 3)\n",
      "(2, 3, 1)\n",
      "(3, 1, 2)\n",
      "(3, 2, 1)\n"
     ]
    }
   ],
   "source": [
    "from itertools import permutations\n",
    "for p in permutations([1, 2, 3]):\n",
    "    print(p)\n"
   ]
  },
  {
   "cell_type": "markdown",
   "metadata": {},
   "source": [
    "#### sort() (C++) ↔️ sorted() / .sort() (Python)"
   ]
  },
  {
   "cell_type": "code",
   "execution_count": 68,
   "metadata": {},
   "outputs": [
    {
     "name": "stdout",
     "output_type": "stream",
     "text": [
      "None\n",
      "[1, 2, 3]\n",
      "[1, 2, 3]\n"
     ]
    }
   ],
   "source": [
    "v = [3, 1, 2]\n",
    "v.sort()  # in-place\n",
    "  \n",
    "print(v.sort())\n",
    "print(v)\n",
    "print(sorted(v)) # returns new sorted list"
   ]
  },
  {
   "cell_type": "markdown",
   "metadata": {},
   "source": [
    "#### min_element(), max_element() (C++) ↔️ min(), max() (Python)|"
   ]
  },
  {
   "cell_type": "code",
   "execution_count": 69,
   "metadata": {},
   "outputs": [
    {
     "name": "stdout",
     "output_type": "stream",
     "text": [
      "1 3\n"
     ]
    }
   ],
   "source": [
    "v = [3, 1, 2]\n",
    "print(min(v), max(v))\n"
   ]
  },
  {
   "cell_type": "code",
   "execution_count": null,
   "metadata": {},
   "outputs": [],
   "source": []
  }
 ],
 "metadata": {
  "kernelspec": {
   "display_name": "env",
   "language": "python",
   "name": "python3"
  },
  "language_info": {
   "codemirror_mode": {
    "name": "ipython",
    "version": 3
   },
   "file_extension": ".py",
   "mimetype": "text/x-python",
   "name": "python",
   "nbconvert_exporter": "python",
   "pygments_lexer": "ipython3",
   "version": "3.11.9"
  }
 },
 "nbformat": 4,
 "nbformat_minor": 2
}
