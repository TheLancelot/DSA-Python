{
 "cells": [
  {
   "cell_type": "markdown",
   "metadata": {},
   "source": [
    "#### input"
   ]
  },
  {
   "cell_type": "code",
   "execution_count": 17,
   "metadata": {},
   "outputs": [
    {
     "data": {
      "text/plain": [
       "str"
      ]
     },
     "execution_count": 17,
     "metadata": {},
     "output_type": "execute_result"
    }
   ],
   "source": [
    "number=input(\"Please enter numberr\")\n",
    "type(number)"
   ]
  },
  {
   "cell_type": "code",
   "execution_count": 13,
   "metadata": {},
   "outputs": [
    {
     "name": "stdout",
     "output_type": "stream",
     "text": [
      "hello\n"
     ]
    }
   ],
   "source": [
    "number=int(number)\n",
    "if number == 10:\n",
    "    print(\"hello\")\n",
    "else:\n",
    "    print(\"bye\")"
   ]
  },
  {
   "cell_type": "markdown",
   "metadata": {},
   "source": [
    "#### Multiple Inputs"
   ]
  },
  {
   "cell_type": "code",
   "execution_count": 1,
   "metadata": {},
   "outputs": [
    {
     "name": "stdout",
     "output_type": "stream",
     "text": [
      "List is: [1, 2, 3, 4]\n"
     ]
    }
   ],
   "source": [
    "n = int(input(\"Enter the number of elements: \"))\n",
    "lst = []\n",
    "for i in range(n):\n",
    "    ele = int(input(f\"Enter element {i+1}: \"))\n",
    "    lst.append(ele)\n",
    "print(\"List is:\", lst)\n"
   ]
  },
  {
   "cell_type": "code",
   "execution_count": 30,
   "metadata": {},
   "outputs": [],
   "source": [
    "inp_iterator=input(\"Enter elements separated by space: \").split()"
   ]
  },
  {
   "cell_type": "code",
   "execution_count": 6,
   "metadata": {},
   "outputs": [
    {
     "name": "stdout",
     "output_type": "stream",
     "text": [
      "List is: [1, 2, 3, 4]\n"
     ]
    }
   ],
   "source": [
    "#map[(func,iterable) iterable can be list tuple etc, applies the function to each item of the iterable\n",
    "# way to perform same operation over items without loop\n",
    "#returns an iterator (map)\n",
    "\n",
    "lst = list(map(int, inp_iterator))\n",
    "print(\"List is:\", lst)\n"
   ]
  },
  {
   "cell_type": "markdown",
   "metadata": {},
   "source": [
    "#### Output\n"
   ]
  },
  {
   "cell_type": "markdown",
   "metadata": {},
   "source": [
    "\n",
    "print(object(s), sep=' ', end='\\n', file=file, flush=flush)\n",
    "\n",
    "separator is put inbetween the multiple objects of print\n",
    "end is what is printed at the end,usually its \\n"
   ]
  },
  {
   "cell_type": "code",
   "execution_count": 29,
   "metadata": {},
   "outputs": [
    {
     "name": "stdout",
     "output_type": "stream",
     "text": [
      "Hello\n",
      "World 123 hii\n",
      "Hello-end-\n",
      "World & 123\n"
     ]
    }
   ],
   "source": [
    "print(\"Hello\")\n",
    "print(\"World\", 123,\"hii\")\n",
    "print(\"Hello\", end='-end-')\n",
    "print()\n",
    "print(\"World\", 123, sep=' & ')\n"
   ]
  },
  {
   "cell_type": "markdown",
   "metadata": {},
   "source": [
    "#### datatypes"
   ]
  },
  {
   "cell_type": "markdown",
   "metadata": {},
   "source": [
    "int,float,bool,str,list,tuple,set,dict"
   ]
  },
  {
   "cell_type": "code",
   "execution_count": 45,
   "metadata": {},
   "outputs": [
    {
     "name": "stdout",
     "output_type": "stream",
     "text": [
      "['apple', 'banana', 'cherry'] <class 'list'>\n",
      "['apple', 'banana', 'cherry', 'orange']\n",
      "\n",
      "(10.5, 20.3) <class 'tuple'>\n",
      "\n",
      "{1, 2, 3} <class 'set'>\n",
      "range(0, 5)\n"
     ]
    }
   ],
   "source": [
    "#list- ordered,mutable(changable),allows duplicates\n",
    "fruits = [\"apple\", \"banana\", \"cherry\"]\n",
    "print(fruits, type(fruits)) \n",
    "fruits.append(\"orange\")\n",
    "print(fruits)\n",
    "\n",
    "print()\n",
    "\n",
    "# tuple - ordered,immutable(unchangable),allows duplicates\n",
    "coordinates = (10.5, 20.3)\n",
    "print(coordinates, type(coordinates)) \n",
    "\n",
    "print()\n",
    "\n",
    "unique_numbers = {1, 2, 3, 2, 1}\n",
    "print(unique_numbers, type(unique_numbers)) \n",
    "\n",
    "print(range(5)) #range data type"
   ]
  },
  {
   "cell_type": "code",
   "execution_count": 59,
   "metadata": {},
   "outputs": [
    {
     "name": "stdout",
     "output_type": "stream",
     "text": [
      "John\n",
      "name John\n",
      "age 20\n"
     ]
    }
   ],
   "source": [
    "student = {\"name\": \"John\", \"age\": 20}\n",
    "\n",
    "print(student.get(\"name\"))\n",
    "for key,value in student.items():\n",
    "    print(key,value)"
   ]
  },
  {
   "cell_type": "markdown",
   "metadata": {},
   "source": [
    "#### conditional, lambda\n"
   ]
  },
  {
   "cell_type": "code",
   "execution_count": 46,
   "metadata": {},
   "outputs": [
    {
     "name": "stdout",
     "output_type": "stream",
     "text": [
      "You chose Option 3\n"
     ]
    }
   ],
   "source": [
    "choice = 3\n",
    "\n",
    "match choice:\n",
    "    case 1:\n",
    "        print(\"You chose Option 1\")\n",
    "    case 2:\n",
    "        print(\"You chose Option 2\")\n",
    "    case 3:\n",
    "        print(\"You chose Option 3\")\n",
    "    case _:\n",
    "        print(\"Invalid Choice\")\n"
   ]
  },
  {
   "cell_type": "code",
   "execution_count": 62,
   "metadata": {},
   "outputs": [
    {
     "name": "stdout",
     "output_type": "stream",
     "text": [
      "225\n"
     ]
    },
    {
     "data": {
      "text/plain": [
       "225"
      ]
     },
     "execution_count": 62,
     "metadata": {},
     "output_type": "execute_result"
    }
   ],
   "source": [
    "#lambda is anonymous function, doesnt have name, used for short simple tasks\n",
    "\n",
    "#  lambda arguments : expression  (same as def func(arg): exp)and then calling that function\n",
    "#we are applying the function on 15\n",
    "print((lambda x:x**2)(15))\n",
    "\n",
    "square=(lambda x:x**2)\n",
    "square(15)"
   ]
  },
  {
   "cell_type": "code",
   "execution_count": 65,
   "metadata": {},
   "outputs": [
    {
     "name": "stdout",
     "output_type": "stream",
     "text": [
      "[1, 4, 9, 16, 25]\n"
     ]
    }
   ],
   "source": [
    "# to square a list of items, as map takes a function and a iterable over which function is to be applied\n",
    "items=[1,2,3,4,5]\n",
    "print(list(map(lambda x:x**2,items)))"
   ]
  },
  {
   "cell_type": "markdown",
   "metadata": {},
   "source": [
    "#### arrays and strings"
   ]
  },
  {
   "cell_type": "code",
   "execution_count": 85,
   "metadata": {},
   "outputs": [
    {
     "name": "stdout",
     "output_type": "stream",
     "text": [
      "[3, 32, 5, 2, 3, 21, 3]\n",
      "[999, 3, 32, 5, 2, 3, 21, 3]\n",
      "3\n",
      "[999, 32, 5, 2, 3, 21]\n",
      "[2, 3, 5, 21, 32, 999]\n",
      "[999, 32, 21, 5, 3, 2]\n"
     ]
    }
   ],
   "source": [
    "#usually list in python with append insert pop remove sort slice methods\n",
    "li=[3,32,5,2,3,21]\n",
    "\n",
    "li.append(3)\n",
    "print(li)\n",
    "\n",
    "li.insert(0,999)\n",
    "print(li)\n",
    "\n",
    "print(li.pop()) #last element\n",
    "\n",
    "li.remove(3) #should be in list remove the first one from start\n",
    "print(li)\n",
    "\n",
    "li.sort()\n",
    "print(li)\n",
    "\n",
    "li.reverse()\n",
    "print(li)"
   ]
  },
  {
   "cell_type": "code",
   "execution_count": 87,
   "metadata": {},
   "outputs": [
    {
     "name": "stdout",
     "output_type": "stream",
     "text": [
      "1\n"
     ]
    }
   ],
   "source": [
    "#or for cpp like array (more memory efficient but less flexible than list)\n",
    "\n",
    "import array\n",
    "\n",
    "arr = array.array('i', [1, 2, 3, 4])\n",
    "print(arr[0])  # Output: 1\n",
    "# i is the datatype\n",
    "\n",
    "arr.append(5)\n",
    "arr.insert(1, 100)\n",
    "arr.pop()\n",
    "arr.remove(3)\n",
    "arr.index(4)"
   ]
  },
  {
   "cell_type": "code",
   "execution_count": 104,
   "metadata": {},
   "outputs": [
    {
     "name": "stdout",
     "output_type": "stream",
     "text": [
      "[2 4 6]\n"
     ]
    }
   ],
   "source": [
    "import numpy as np\n",
    "\n",
    "np_arr = np.array([1, 2, 3])\n",
    "print(np_arr * 2)  # Output: [2 4 6] — element-wise multiplication\n"
   ]
  },
  {
   "cell_type": "code",
   "execution_count": 103,
   "metadata": {},
   "outputs": [
    {
     "name": "stdout",
     "output_type": "stream",
     "text": [
      "H\n",
      "!\n",
      "Hello\n",
      "World!\n",
      "Hello, World!\n",
      "Hello, Python!\n"
     ]
    },
    {
     "data": {
      "text/plain": [
       "['Hello', ' World!']"
      ]
     },
     "execution_count": 103,
     "metadata": {},
     "output_type": "execute_result"
    }
   ],
   "source": [
    "text = \"Hello, World!\"\n",
    "print(text[0]) \n",
    "print(text[-1])  \n",
    "print(text[0:5])  # Output: Hello\n",
    "print(text[7:])   # Output: World!\n",
    "\n",
    "text.lower()        # \"hello, world!\"\n",
    "text.upper()        # \"HELLO, WORLD!\"\n",
    "print(text.strip())        # Removes spaces\n",
    "print(text.replace(\"World\", \"Python\"))  # \"Hello, Python!\"\n",
    "text.split(\",\")     # ['Hello', ' World!']\n"
   ]
  },
  {
   "cell_type": "markdown",
   "metadata": {},
   "source": [
    "#### loops"
   ]
  },
  {
   "cell_type": "markdown",
   "metadata": {},
   "source": [
    " Python allows an else block after loops, which runs only if the loop was not exited using break"
   ]
  },
  {
   "cell_type": "code",
   "execution_count": 105,
   "metadata": {},
   "outputs": [
    {
     "name": "stdout",
     "output_type": "stream",
     "text": [
      "1\n",
      "3\n",
      "5\n",
      "7\n",
      "9\n"
     ]
    }
   ],
   "source": [
    "for i in range(1, 10, 2):  # start=1, stop=10, step=2\n",
    "    print(i)\n"
   ]
  },
  {
   "cell_type": "code",
   "execution_count": 110,
   "metadata": {},
   "outputs": [
    {
     "name": "stdout",
     "output_type": "stream",
     "text": [
      "0\n",
      "1\n",
      "2\n",
      "3\n",
      "4\n",
      "--------\n",
      "0\n",
      "1\n",
      "2\n",
      "3\n",
      "4\n",
      "--------\n",
      "0\n",
      "1\n",
      "3\n",
      "4\n",
      "i = 0, j = 0\n",
      "i = 0, j = 1\n",
      "i = 1, j = 0\n",
      "i = 1, j = 1\n",
      "i = 2, j = 0\n",
      "i = 2, j = 1\n"
     ]
    }
   ],
   "source": [
    "i = 0\n",
    "while i < 5:\n",
    "    print(i)\n",
    "    i += 1\n",
    "\n",
    "print(\"--------\")\n",
    "for i in range(10):\n",
    "    if i == 5:\n",
    "        break\n",
    "    print(i)\n",
    "\n",
    "print(\"--------\")\n",
    "for i in range(5):\n",
    "    if i == 2:\n",
    "        continue #goes to next iteration\n",
    "    print(i)\n",
    "\n",
    "for i in range(3):\n",
    "    for j in range(2):\n",
    "        print(f\"i = {i}, j = {j}\")\n"
   ]
  },
  {
   "cell_type": "markdown",
   "metadata": {},
   "source": [
    "#### functions"
   ]
  },
  {
   "cell_type": "code",
   "execution_count": 112,
   "metadata": {},
   "outputs": [
    {
     "name": "stdout",
     "output_type": "stream",
     "text": [
      "6\n",
      "50\n"
     ]
    }
   ],
   "source": [
    "#Variable Length Arguments\n",
    "\n",
    "# *args for variable number of positional arguments\n",
    "def add_all(*args):\n",
    "    return sum(args)\n",
    "\n",
    "print(add_all(1, 2, 3))         # Output: 6\n",
    "print(add_all(5, 10, 15, 20))   # Output: 50\n"
   ]
  },
  {
   "cell_type": "code",
   "execution_count": 113,
   "metadata": {},
   "outputs": [
    {
     "name": "stdout",
     "output_type": "stream",
     "text": [
      "name: Alice\n",
      "age: 25\n",
      "city: New York\n"
     ]
    }
   ],
   "source": [
    "# **kwargs – Variable Keyword Arguments\n",
    "# Used to handle named arguments that you don’t know beforehand.\n",
    "def create_profile(**kwargs):\n",
    "    for key, value in kwargs.items():\n",
    "        print(f\"{key}: {value}\")\n",
    "\n",
    "create_profile(name=\"Alice\", age=25, city=\"New York\")\n"
   ]
  },
  {
   "cell_type": "code",
   "execution_count": 114,
   "metadata": {},
   "outputs": [
    {
     "name": "stdout",
     "output_type": "stream",
     "text": [
      "Positional: (1, 2, 3)\n",
      "Keyword: {'a': 'x', 'b': 'y'}\n"
     ]
    }
   ],
   "source": [
    "def demo_func(*args, **kwargs):\n",
    "    print(\"Positional:\", args)\n",
    "    print(\"Keyword:\", kwargs)\n",
    "\n",
    "demo_func(1, 2, 3, a='x', b='y')\n"
   ]
  },
  {
   "cell_type": "code",
   "execution_count": 116,
   "metadata": {},
   "outputs": [
    {
     "name": "stdout",
     "output_type": "stream",
     "text": [
      "Inside: 15\n",
      "Outside: 10\n",
      "Inside: [1, 2, 3, 4]\n",
      "Outside: [1, 2, 3, 4]\n"
     ]
    }
   ],
   "source": [
    "# Python function argument passingmechanism is neither purely pass-by-value nor pass-by-reference. It's best described as:\n",
    "\n",
    "# 📌 Pass by Object Reference or Call by Sharing\n",
    "\n",
    "# Mutable objects (like lists, dicts) → changes inside the function affect the original object.\n",
    "\n",
    "# Immutable objects (like int, float, str) → changes inside the function do not affect the original.\n",
    "\n",
    "def modify(x):\n",
    "    x += 5\n",
    "    print(\"Inside:\", x)\n",
    "\n",
    "a = 10\n",
    "modify(a)\n",
    "print(\"Outside:\", a)\n",
    "\n",
    "def modify_list(lst):\n",
    "    lst.append(4)\n",
    "    print(\"Inside:\", lst)\n",
    "\n",
    "my_list = [1, 2, 3]\n",
    "modify_list(my_list)\n",
    "print(\"Outside:\", my_list)\n",
    "\n",
    "#immutable data types, value is copied inside the function\n",
    "#mutable data types, reference is passed inside the function so changes affect globally"
   ]
  },
  {
   "cell_type": "code",
   "execution_count": 119,
   "metadata": {},
   "outputs": [
    {
     "name": "stdout",
     "output_type": "stream",
     "text": [
      "['Bob', 'John', 'Zack', 'Alice']\n"
     ]
    }
   ],
   "source": [
    "names = [\"John\", \"Alice\", \"Zack\", \"Bob\"]\n",
    "names.sort(key=lambda x: len(x))\n",
    "print(names)  # Sorted by length\n"
   ]
  },
  {
   "cell_type": "code",
   "execution_count": 120,
   "metadata": {},
   "outputs": [
    {
     "name": "stdout",
     "output_type": "stream",
     "text": [
      "[2, 4, 6, 8]\n",
      "[2, 4]\n"
     ]
    }
   ],
   "source": [
    "nums = [1, 2, 3, 4]\n",
    "\n",
    "# Double each number\n",
    "doubled = list(map(lambda x: x * 2, nums))\n",
    "print(doubled)  # [2, 4, 6, 8]\n",
    "\n",
    "# Filter even numbers\n",
    "even = list(filter(lambda x: x % 2 == 0, nums))\n",
    "print(even)  # [2, 4]\n"
   ]
  },
  {
   "cell_type": "code",
   "execution_count": null,
   "metadata": {},
   "outputs": [],
   "source": []
  }
 ],
 "metadata": {
  "kernelspec": {
   "display_name": "env",
   "language": "python",
   "name": "python3"
  },
  "language_info": {
   "codemirror_mode": {
    "name": "ipython",
    "version": 3
   },
   "file_extension": ".py",
   "mimetype": "text/x-python",
   "name": "python",
   "nbconvert_exporter": "python",
   "pygments_lexer": "ipython3",
   "version": "3.11.9"
  }
 },
 "nbformat": 4,
 "nbformat_minor": 2
}
